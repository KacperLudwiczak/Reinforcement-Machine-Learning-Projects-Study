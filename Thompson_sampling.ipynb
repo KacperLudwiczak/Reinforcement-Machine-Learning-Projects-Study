{
  "nbformat": 4,
  "nbformat_minor": 0,
  "metadata": {
    "colab": {
      "provenance": [],
      "include_colab_link": true
    },
    "kernelspec": {
      "name": "python3",
      "display_name": "Python 3"
    }
  },
  "cells": [
    {
      "cell_type": "markdown",
      "metadata": {
        "id": "view-in-github",
        "colab_type": "text"
      },
      "source": [
        "<a href=\"https://colab.research.google.com/github/KacperLudwiczak/Reinforcement-Machine-Learning-Projects-Study/blob/main/Thompson_sampling.ipynb\" target=\"_parent\"><img src=\"https://colab.research.google.com/assets/colab-badge.svg\" alt=\"Open In Colab\"/></a>"
      ]
    },
    {
      "cell_type": "markdown",
      "metadata": {
        "id": "vPKTIRAtx232"
      },
      "source": [
        "# Thompson Sampling"
      ]
    },
    {
      "cell_type": "markdown",
      "metadata": {
        "id": "PqPv9zpAx-EE"
      },
      "source": [
        "## Importing the libraries"
      ]
    },
    {
      "cell_type": "code",
      "metadata": {
        "id": "lozuE-Fhx_QB"
      },
      "source": [
        "import numpy as np\n",
        "import matplotlib.pyplot as plt\n",
        "import pandas as pd"
      ],
      "execution_count": null,
      "outputs": []
    },
    {
      "cell_type": "markdown",
      "metadata": {
        "id": "iqpVk5HhyGmO"
      },
      "source": [
        "## Importing the dataset"
      ]
    },
    {
      "cell_type": "code",
      "metadata": {
        "id": "kY4zzW4hyNfA"
      },
      "source": [
        "dataset = pd.read_csv('Ads_CTR_Optimisation.csv')"
      ],
      "execution_count": null,
      "outputs": []
    },
    {
      "cell_type": "markdown",
      "metadata": {
        "id": "WqoXeWOYyQhB"
      },
      "source": [
        "## Implementing Thompson Sampling"
      ]
    },
    {
      "cell_type": "code",
      "metadata": {
        "id": "PCiHv51pyUII"
      },
      "source": [
        "import random\n",
        "N = 10000\n",
        "d = 10\n",
        "ads_selected = []\n",
        "numbers_of_rewards_1 = [0] * d\n",
        "numbers_of_rewards_0 = [0] * d\n",
        "total_reward = 0\n",
        "for n in range(0, N):\n",
        "  ad = 0\n",
        "  max_random = 0\n",
        "  for i in range(0, d):\n",
        "    random_beta = random.betavariate(numbers_of_rewards_1[i] + 1, numbers_of_rewards_0[i] + 1)\n",
        "    if (random_beta > max_random):\n",
        "      max_random = random_beta\n",
        "      ad = i\n",
        "  ads_selected.append(ad)\n",
        "  reward = dataset.values[n, ad]\n",
        "  if reward == 1:\n",
        "    numbers_of_rewards_1[ad] = numbers_of_rewards_1[ad] + 1\n",
        "  else:\n",
        "    numbers_of_rewards_0[ad] = numbers_of_rewards_0[ad] + 1\n",
        "  total_reward = total_reward + reward\n",
        "\n",
        "\n",
        "# To kod w języku Python, który implementuje algorytm Thompson Sampling w przypadku problemu wyboru najlepszej wersji reklamy.\n",
        "# W tym kodzie N to liczba iteracji algorytmu, d to liczba opcji, ads_selected przechowuje wybrane opcje w każdej iteracji, numbers_of_rewards_1 i numbers_of_rewards_0 to listy przechowujące ilość uzyskanych nagród i braków nagród dla każdej opcji, a total_reward to suma uzyskanych nagród.\n",
        "# W pętli for iterujemy przez wszystkie iteracje algorytmu. Dla każdej iteracji, wybieramy opcję z największą wartością oczekiwaną, korzystając z rozkładu Beta, który jest generowany przez funkcję random.betavariate(). Następnie, aktualizujemy liczniki nagród dla wybranej opcji i sumujemy nagrody.\n",
        "# Ostatecznie, ads_selected przechowuje listę wybranych opcji w każdej iteracji, a total_reward przechowuje sumę uzyskanych nagród.\n",
        "# Ten kod można wykorzystać jako prosty przykład algorytmu Thompson Sampling, ale w rzeczywistych aplikacjach zazwyczaj wymaga on dodatkowej logiki i struktur danych do obsługi problemów kontekstowych lub wielowymiarowych.\n",
        "\n",
        "# Oto wyjaśnienie każdej linii kodu w przedstawionej implementacji algorytmu Thompson Sampling:\n",
        "# import random - importowanie modułu random, który umożliwia korzystanie z funkcji losowych.\n",
        "# N = 10000 - ustawienie liczby iteracji algorytmu na 10000.\n",
        "# d = 10 - ustawienie liczby opcji na 10.\n",
        "# ads_selected = [] - inicjalizacja pustej listy ads_selected, która będzie przechowywać wybrane opcje w każdej iteracji.\n",
        "# numbers_of_rewards_1 = [0] * d - inicjalizacja listy numbers_of_rewards_1 o długości d, która będzie przechowywać liczbę uzyskanych nagród dla każdej opcji.\n",
        "# numbers_of_rewards_0 = [0] * d - inicjalizacja listy numbers_of_rewards_0 o długości d, która będzie przechowywać liczbę braków nagród dla każdej opcji.\n",
        "# total_reward = 0 - inicjalizacja wartości total_reward na 0, która będzie przechowywać sumę uzyskanych nagród.\n",
        "# for n in range(0, N): - rozpoczęcie pętli for iterującej przez N iteracji algorytmu.\n",
        "# ad = 0 - ustawienie wartości początkowej zmiennej ad na 0, która będzie przechowywać wybraną opcję w każdej iteracji.\n",
        "# max_random = 0 - ustawienie wartości początkowej zmiennej max_random na 0, która będzie przechowywać wartość oczekiwaną najwyższego rozkładu Beta w każdej iteracji.\n",
        "# for i in range(0, d): - rozpoczęcie pętli for iterującej przez wszystkie opcje.\n",
        "# random_beta = random.betavariate(numbers_of_rewards_1[i] + 1, numbers_of_rewards_0[i] + 1) - Ta linijka kodu generuje wartość losową z rozkładu Beta dla opcji i. Wartość ta jest zapisywana w zmiennej random_beta. Do wygenerowania tej wartości losowej używa się funkcji betavariate z modułu random. Funkcja ta przyjmuje dwa argumenty, które są wartościami parametrów rozkładu Beta. Te parametry są wyliczane na podstawie dwóch list: numbers_of_rewards_1 i numbers_of_rewards_0.\n",
        "# numbers_of_rewards_1 to lista, która przechowuje liczbę uzyskanych nagród dla każdej opcji, a numbers_of_rewards_0 to lista, która przechowuje liczbę przypadków braku nagród dla każdej opcji.\n",
        "# Wartości tych list są przekazywane jako argumenty do funkcji betavariate po dodaniu do nich 1. Dodanie 1 do każdej wartości służy zapobieganiu dzieleniu przez zero i umożliwia generowanie wartości losowych z rozkładu Beta.\n",
        "# if (random_beta > max_random): - sprawdzenie, czy wygenerowana wartość losowa random_beta jest większa od dotychczasowego maksimum max_random.\n",
        "# max_random = random_beta - aktualizacja wartości max_random na wygenerowaną wartość losową random_beta, jeśli ta wartość jest większa od poprzedniego maksimum.\n",
        "# ad = i - aktualizacja wartości wybranej opcji ad na opcję i, dla której wygenerowana wartość losowa jest większa od poprzedniego maksimum.\n",
        "# ads_selected.append(ad) - dodanie wybranej opcji ad do listy ads_selected.\n",
        "# reward = dataset.values[n, ad] - przypisanie wartości nagrody lub braku nagrody dla wybranej opcji ad w bieżącej iteracji.\n",
        "# if reward == 1: - sprawdzenie, czy wartość reward jest równa 1, co oznacza, że wybrana opcja przyniosła nagrodę.\n",
        "# numbers_of_rewards_1[ad] = numbers_of_rewards_1[ad] + 1 - zwiększenie liczby uzyskanych nagród dla wybranej opcji ad.\n",
        "# else: - w przeciwnym wypadku (gdy wartość reward jest różna od 1), oznacza to, że wybrana opcja nie przyniosła nagrody.\n",
        "# numbers_of_rewards_0[ad] = numbers_of_rewards_0[ad] + 1 - zwiększenie liczby braków nagród dla wybranej opcji ad.\n",
        "# total_reward = total_reward + reward - dodanie wartości reward do łącznej sumy uzyskanych nagród.\n"
      ],
      "execution_count": null,
      "outputs": []
    },
    {
      "cell_type": "code",
      "source": [
        "print(total_reward) "
      ],
      "metadata": {
        "colab": {
          "base_uri": "https://localhost:8080/"
        },
        "id": "OsHHjABpSu30",
        "outputId": "1adc768e-51e6-4e00-d862-d43ab6284ca5"
      },
      "execution_count": null,
      "outputs": [
        {
          "output_type": "stream",
          "name": "stdout",
          "text": [
            "2594\n"
          ]
        }
      ]
    },
    {
      "cell_type": "markdown",
      "metadata": {
        "id": "tweWsgTHyXhv"
      },
      "source": [
        "## Visualising the results - Histogram"
      ]
    },
    {
      "cell_type": "code",
      "metadata": {
        "id": "k8DJmN06yak3",
        "outputId": "1bef0088-4496-4460-c95f-473d440e1a15",
        "colab": {
          "base_uri": "https://localhost:8080/",
          "height": 295
        }
      },
      "source": [
        "plt.hist(ads_selected)\n",
        "plt.title('Histogram of ads selections')\n",
        "plt.xlabel('Ads')\n",
        "plt.ylabel('Number of times each ad was selected')\n",
        "plt.show()"
      ],
      "execution_count": null,
      "outputs": [
        {
          "output_type": "display_data",
          "data": {
            "text/plain": [
              "<Figure size 432x288 with 1 Axes>"
            ],
            "image/png": "[encoded data removed]"
          },
          "metadata": {
            "needs_background": "light"
          }
        }
      ]
    }
  ]
}